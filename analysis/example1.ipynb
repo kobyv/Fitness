{
 "cells": [
  {
   "cell_type": "code",
   "execution_count": 1,
   "metadata": {
    "collapsed": true
   },
   "outputs": [],
   "source": [
    "%matplotlib inline\n",
    "import sqlite3\n",
    "import pandas as pd\n",
    "import numpy as np\n",
    "import matplotlib.pyplot as plt\n"
   ]
  },
  {
   "cell_type": "code",
   "execution_count": 3,
   "metadata": {},
   "outputs": [
    {
     "data": {
      "text/html": [
       "<div>\n",
       "<style>\n",
       "    .dataframe thead tr:only-child th {\n",
       "        text-align: right;\n",
       "    }\n",
       "\n",
       "    .dataframe thead th {\n",
       "        text-align: left;\n",
       "    }\n",
       "\n",
       "    .dataframe tbody tr th {\n",
       "        vertical-align: top;\n",
       "    }\n",
       "</style>\n",
       "<table border=\"1\" class=\"dataframe\">\n",
       "  <thead>\n",
       "    <tr style=\"text-align: right;\">\n",
       "      <th></th>\n",
       "      <th>time</th>\n",
       "      <th>tz</th>\n",
       "      <th>duration</th>\n",
       "      <th>type</th>\n",
       "      <th>source</th>\n",
       "      <th>distance</th>\n",
       "      <th>utc</th>\n",
       "    </tr>\n",
       "  </thead>\n",
       "  <tbody>\n",
       "    <tr>\n",
       "      <th>359</th>\n",
       "      <td>1506403051</td>\n",
       "      <td>180</td>\n",
       "      <td>2334</td>\n",
       "      <td>Running</td>\n",
       "      <td>iSmoothRun</td>\n",
       "      <td>6821</td>\n",
       "      <td>2017-09-26 05:17:31</td>\n",
       "    </tr>\n",
       "    <tr>\n",
       "      <th>360</th>\n",
       "      <td>1506443086</td>\n",
       "      <td>180</td>\n",
       "      <td>1550</td>\n",
       "      <td>Cycling</td>\n",
       "      <td>Koby’s Apple Watch</td>\n",
       "      <td>5220</td>\n",
       "      <td>2017-09-26 16:24:46</td>\n",
       "    </tr>\n",
       "    <tr>\n",
       "      <th>361</th>\n",
       "      <td>1506529330</td>\n",
       "      <td>180</td>\n",
       "      <td>1193</td>\n",
       "      <td>Cycling</td>\n",
       "      <td>Koby’s Apple Watch</td>\n",
       "      <td>4542</td>\n",
       "      <td>2017-09-27 16:22:10</td>\n",
       "    </tr>\n",
       "    <tr>\n",
       "      <th>362</th>\n",
       "      <td>1506576531</td>\n",
       "      <td>180</td>\n",
       "      <td>2407</td>\n",
       "      <td>Running</td>\n",
       "      <td>Koby’s Apple Watch</td>\n",
       "      <td>6377</td>\n",
       "      <td>2017-09-28 05:28:51</td>\n",
       "    </tr>\n",
       "    <tr>\n",
       "      <th>363</th>\n",
       "      <td>1506604667</td>\n",
       "      <td>180</td>\n",
       "      <td>1031</td>\n",
       "      <td>Cycling</td>\n",
       "      <td>Koby’s Apple Watch</td>\n",
       "      <td>4483</td>\n",
       "      <td>2017-09-28 13:17:47</td>\n",
       "    </tr>\n",
       "  </tbody>\n",
       "</table>\n",
       "</div>"
      ],
      "text/plain": [
       "           time   tz  duration     type              source  distance  \\\n",
       "359  1506403051  180      2334  Running          iSmoothRun      6821   \n",
       "360  1506443086  180      1550  Cycling  Koby’s Apple Watch      5220   \n",
       "361  1506529330  180      1193  Cycling  Koby’s Apple Watch      4542   \n",
       "362  1506576531  180      2407  Running  Koby’s Apple Watch      6377   \n",
       "363  1506604667  180      1031  Cycling  Koby’s Apple Watch      4483   \n",
       "\n",
       "                    utc  \n",
       "359 2017-09-26 05:17:31  \n",
       "360 2017-09-26 16:24:46  \n",
       "361 2017-09-27 16:22:10  \n",
       "362 2017-09-28 05:28:51  \n",
       "363 2017-09-28 13:17:47  "
      ]
     },
     "execution_count": 3,
     "metadata": {},
     "output_type": "execute_result"
    }
   ],
   "source": [
    "conn = sqlite3.connect(\"../activity.db\")\n",
    "wrk_df = pd.read_sql_query(\"select time,tz,duration,type,source,distance from workout;\", conn)\n",
    "wrk_df['utc'] = pd.to_datetime(wrk_df['time'],unit='s')  # UTC time\n",
    "wrk_df.tail()"
   ]
  },
  {
   "cell_type": "code",
   "execution_count": 4,
   "metadata": {
    "collapsed": true
   },
   "outputs": [],
   "source": [
    "last_workout = wrk_df.iloc[-1]\n",
    "startTime = last_workout['time']\n",
    "endTime = last_workout['time'] + last_workout['duration']"
   ]
  },
  {
   "cell_type": "code",
   "execution_count": 1,
   "metadata": {},
   "outputs": [],
   "source": [
    "loc_df = pd.read_sql_query('select * from location where time>={} and time<={}'.format(startTime,endTime), conn)\n",
    "loc_df.tail()"
   ]
  }
 ],
 "metadata": {
  "kernelspec": {
   "display_name": "Python 3",
   "language": "python",
   "name": "python3"
  },
  "language_info": {
   "codemirror_mode": {
    "name": "ipython",
    "version": 3
   },
   "file_extension": ".py",
   "mimetype": "text/x-python",
   "name": "python",
   "nbconvert_exporter": "python",
   "pygments_lexer": "ipython3",
   "version": "3.6.1"
  }
 },
 "nbformat": 4,
 "nbformat_minor": 2
}
